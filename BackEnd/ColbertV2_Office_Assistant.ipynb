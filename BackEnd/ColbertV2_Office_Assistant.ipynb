{
  "cells": [
    {
      "cell_type": "markdown",
      "metadata": {
        "id": "vTwpDNBnorUT"
      },
      "source": [
        "# ColBERTv2: Indexing & Search Notebook\n",
        "\n",
        "If you're working in Google Colab, we recommend selecting \"GPU\" as your hardware accelerator in the runtime settings.\n",
        "\n",
        "First, we'll import the relevant classes. Note that `Indexer` and `Searcher` are the key actors here. Next, we'll download the necessary dependencies."
      ]
    },
    {
      "cell_type": "code",
      "execution_count": null,
      "metadata": {
        "id": "nl_YBBPTo5AZ"
      },
      "outputs": [],
      "source": [
        "!git -C ColBERT/ pull || git clone https://github.com/stanford-futuredata/ColBERT.git\n",
        "import sys; sys.path.insert(0, 'ColBERT/')"
      ]
    },
    {
      "cell_type": "code",
      "execution_count": null,
      "metadata": {
        "id": "FmBi2UT5pxb3"
      },
      "outputs": [],
      "source": [
        "try: # When on google Colab, let's install all dependencies with pip.\n",
        "    import google.colab\n",
        "    !pip install -U pip\n",
        "    !pip install -e ColBERT/['faiss-gpu','torch']\n",
        "except Exception:\n",
        "  import sys; sys.path.insert(0, 'ColBERT/')\n",
        "  try:\n",
        "    from colbert import Indexer, Searcher\n",
        "  except Exception:\n",
        "    print(\"If you're running outside Colab, please make sure you install ColBERT in conda following the instructions in our README. You can also install (as above) with pip but it may install slower or less stable faiss or torch dependencies. Conda is recommended.\")\n",
        "    assert False"
      ]
    },
    {
      "cell_type": "code",
      "execution_count": null,
      "metadata": {
        "id": "N0jxbVar4kln"
      },
      "outputs": [],
      "source": [
        "import colbert"
      ]
    },
    {
      "cell_type": "code",
      "execution_count": null,
      "metadata": {
        "id": "xQg9A-dtp1nB"
      },
      "outputs": [],
      "source": [
        "from colbert import Indexer, Searcher\n",
        "from colbert.infra import Run, RunConfig, ColBERTConfig\n",
        "from colbert.data import Queries, Collection"
      ]
    },
    {
      "cell_type": "markdown",
      "metadata": {
        "id": "TLWjmlkVq9r0"
      },
      "source": [
        "We will use the dev set of the **LoTTE benchmark** we recently introduced in the ColBERTv2 paper. We'll download it from HuggingFace datasets. The dev and test sets contain several domain-specific corpora, and we'll use the smallest dev set corpus, namely lifestyle:dev.\n",
        "\n",
        "For the purposes of a quick demo, we will only run the `Indexer` on the first 10,000 passages. As we do this, let's also remove the queries whose relevant passages are all outside this small set of passages."
      ]
    },
    {
      "cell_type": "code",
      "execution_count": null,
      "metadata": {
        "colab": {
          "base_uri": "https://localhost:8080/",
          "height": 73
        },
        "id": "balf31PN36k-",
        "outputId": "7cb9cb3d-d1ba-48be-c55c-4c4c139ba6a3"
      },
      "outputs": [
        {
          "name": "stdout",
          "output_type": "stream",
          "text": [
            "[Dec 03, 11:12:24] #> Loading collection...\n",
            "0M \n"
          ]
        },
        {
          "data": {
            "application/vnd.google.colaboratory.intrinsic+json": {
              "type": "string"
            },
            "text/plain": [
              "'Loaded 247 passages'"
            ]
          },
          "execution_count": 5,
          "metadata": {},
          "output_type": "execute_result"
        }
      ],
      "source": [
        "import os\n",
        "\n",
        "dataroot = '/content/data'\n",
        "\n",
        "collection = os.path.join(dataroot, 'collections.tsv')\n",
        "collection = Collection(path=collection)\n",
        "\n",
        "f'Loaded {len(collection)} passages'"
      ]
    },
    {
      "cell_type": "code",
      "execution_count": null,
      "metadata": {
        "colab": {
          "base_uri": "https://localhost:8080/"
        },
        "id": "CQFUHYTZs0aa",
        "outputId": "6e3a36f7-a816-4e9d-b9e8-2b65a29f1ced"
      },
      "outputs": [
        {
          "name": "stdout",
          "output_type": "stream",
          "text": [
            " Corporate Social Responsibility@ What is Corporate Social Responsibility?@ With our Policy Template, we help you create awareness among your employees regarding the company’s steps to return the good deeds to society. The company’s existence is latin small letter a part of the bigger system formed with the harmony of the people, values, and nature. It is both latin small letter a responsibility and latin small letter a deed of conscience that encourages the companies to take some extra steps to engage in donating or volunteering activities and partner with the non-proﬁt organizations to complete ventures. Download the template now.\n",
            "\n"
          ]
        }
      ],
      "source": [
        "print(collection[19])\n",
        "print()"
      ]
    },
    {
      "cell_type": "markdown",
      "metadata": {
        "id": "RKJdAAbDu7PZ"
      },
      "source": [
        "## Indexing\n",
        "\n",
        "For an efficient search, we can pre-compute the ColBERT representation of each passage and index them.\n",
        "\n",
        "Below, the `Indexer` take a model checkpoint and writes a (compressed) index to disk. We then prepare a `Searcher` for retrieval from this index."
      ]
    },
    {
      "cell_type": "code",
      "execution_count": null,
      "metadata": {
        "id": "vKAdVN5MvDKD"
      },
      "outputs": [],
      "source": [
        "nbits = 2   # encode each dimension with 2 bits\n",
        "doc_maxlen = 500 # truncate passages at 300 tokens\n",
        "max_id = 10000\n",
        "\n",
        "index_name = f'ncert.{nbits}bits'"
      ]
    },
    {
      "cell_type": "markdown",
      "metadata": {
        "id": "orKfQRmQv46u"
      },
      "source": [
        "Now run the `Indexer` on the collection subset. Assuming the use of only one GPU, this cell should take about six minutes to finish running."
      ]
    },
    {
      "cell_type": "code",
      "execution_count": null,
      "metadata": {
        "id": "kfkW8rcM7Non"
      },
      "outputs": [],
      "source": [
        "!rm -r /content/experiments"
      ]
    },
    {
      "cell_type": "code",
      "execution_count": null,
      "metadata": {
        "colab": {
          "base_uri": "https://localhost:8080/"
        },
        "id": "JRiOnzxtwI0j",
        "outputId": "161e2166-0843-48fd-ffff-f4944895b3e0"
      },
      "outputs": [
        {
          "name": "stdout",
          "output_type": "stream",
          "text": [
            "\n",
            "\n",
            "[Dec 03, 11:12:33] #> Creating directory /content/experiments/copilot/indexes/ncert.2bits \n",
            "\n",
            "\n",
            "#> Starting...\n",
            "#> Joined...\n"
          ]
        }
      ],
      "source": [
        "checkpoint = 'colbert-ir/colbertv2.0'\n",
        "\n",
        "with Run().context(RunConfig(nranks=1, experiment='copilot')):  # nranks specifies the number of GPUs to use\n",
        "    config = ColBERTConfig(doc_maxlen=doc_maxlen, nbits=nbits, kmeans_niters=4) # kmeans_niters specifies the number of iterations of k-means clustering; 4 is a good and fast default.\n",
        "                                                                                # Consider larger numbers for small datasets.\n",
        "\n",
        "    indexer = Indexer(checkpoint=checkpoint, config=config)\n",
        "    indexer.index(name=index_name, collection=collection, overwrite=True)"
      ]
    },
    {
      "cell_type": "code",
      "execution_count": null,
      "metadata": {
        "colab": {
          "base_uri": "https://localhost:8080/",
          "height": 36
        },
        "id": "CTbP2LS1xHVZ",
        "outputId": "6b4c8f15-c652-412f-8589-f6effb8d2a68"
      },
      "outputs": [
        {
          "data": {
            "application/vnd.google.colaboratory.intrinsic+json": {
              "type": "string"
            },
            "text/plain": [
              "'/content/experiments/copilot/indexes/ncert.2bits'"
            ]
          },
          "execution_count": 9,
          "metadata": {},
          "output_type": "execute_result"
        }
      ],
      "source": [
        "indexer.get_index() # You can get the absolute path of the index, if needed."
      ]
    },
    {
      "cell_type": "code",
      "execution_count": null,
      "metadata": {
        "id": "gcl1GEwchIfN"
      },
      "outputs": [],
      "source": [
        "# !zip -r /content/colbert_ncert.zip /content/experiments"
      ]
    },
    {
      "cell_type": "code",
      "execution_count": null,
      "metadata": {
        "id": "Rd1svciYhTUV"
      },
      "outputs": [],
      "source": []
    },
    {
      "cell_type": "markdown",
      "metadata": {
        "id": "IY6_D523yBFB"
      },
      "source": [
        "## Search\n",
        "\n",
        "Having built the index and prepared our `searcher`, we can search for individual query strings.\n",
        "\n",
        "We can use the `queries` set we loaded earlier — or you can supply your own questions. Feel free to get creative! But keep in mind this set of ~300k lifestyle passages can only answer a small, focused set of questions!"
      ]
    },
    {
      "cell_type": "code",
      "execution_count": null,
      "metadata": {
        "colab": {
          "base_uri": "https://localhost:8080/"
        },
        "id": "j3x_FnVnyB0n",
        "outputId": "24ed8874-2f5a-4109-e8e9-af1446821e64"
      },
      "outputs": [
        {
          "name": "stdout",
          "output_type": "stream",
          "text": [
            "[Dec 03, 11:16:06] #> Loading codec...\n",
            "[Dec 03, 11:16:06] Loading decompress_residuals_cpp extension (set COLBERT_LOAD_TORCH_EXTENSION_VERBOSE=True for more info)...\n",
            "[Dec 03, 11:16:06] Loading packbits_cpp extension (set COLBERT_LOAD_TORCH_EXTENSION_VERBOSE=True for more info)...\n",
            "[Dec 03, 11:16:06] #> Loading IVF...\n",
            "[Dec 03, 11:16:06] #> Loading doclens...\n"
          ]
        },
        {
          "name": "stderr",
          "output_type": "stream",
          "text": [
            "100%|██████████| 1/1 [00:00<00:00, 1283.05it/s]"
          ]
        },
        {
          "name": "stdout",
          "output_type": "stream",
          "text": [
            "[Dec 03, 11:16:06] #> Loading codes and residuals...\n"
          ]
        },
        {
          "name": "stderr",
          "output_type": "stream",
          "text": [
            "\n",
            "100%|██████████| 1/1 [00:00<00:00, 924.26it/s]\n"
          ]
        }
      ],
      "source": [
        "# To create the searcher using its relative name (i.e., not a full path), set\n",
        "# experiment=value_used_for_indexing in the RunConfig.\n",
        "with Run().context(RunConfig(experiment='copilot')):\n",
        "    searcher = Searcher(index=index_name, collection=collection)\n",
        "\n",
        "\n",
        "# If you want to customize the search latency--quality tradeoff, you can also supply a\n",
        "# config=ColBERTConfig(ncells=.., centroid_score_threshold=.., ndocs=..) argument.\n",
        "# The default settings with k <= 10 (1, 0.5, 256) gives the fastest search,\n",
        "# but you can gain more extensive search by setting larger values of k or\n",
        "# manually specifying more conservative ColBERTConfig settings (e.g. (4, 0.4, 4096))."
      ]
    },
    {
      "cell_type": "code",
      "execution_count": null,
      "metadata": {
        "colab": {
          "base_uri": "https://localhost:8080/"
        },
        "id": "3JYA0N22yIeS",
        "outputId": "0cbef9e4-1548-4b48-e40d-bbe635cf2675"
      },
      "outputs": [
        {
          "name": "stdout",
          "output_type": "stream",
          "text": [
            "#> What is the charge for replacement of ID cards?\n",
            "\n",
            "#> QueryTokenizer.tensorize(batch_text[0], batch_background[0], bsize) ==\n",
            "#> Input: . What is the charge for replacement of ID cards?, \t\t True, \t\t None\n",
            "#> Output IDs: torch.Size([32]), tensor([ 101,    1, 2054, 2003, 1996, 3715, 2005, 6110, 1997, 8909, 5329, 1029,\n",
            "         102,  103,  103,  103,  103,  103,  103,  103,  103,  103,  103,  103,\n",
            "         103,  103,  103,  103,  103,  103,  103,  103])\n",
            "#> Output Mask: torch.Size([32]), tensor([1, 1, 1, 1, 1, 1, 1, 1, 1, 1, 1, 1, 1, 0, 0, 0, 0, 0, 0, 0, 0, 0, 0, 0,\n",
            "        0, 0, 0, 0, 0, 0, 0, 0])\n",
            "\n",
            "\n",
            " Rank : [1] \n",
            "\n",
            " Score : 21.0 \n",
            "\n",
            " PID: 147 \n",
            "\n",
            " Passages:\n",
            "\n",
            "  ID Card Policy@ Lost or Stolen ID Card@ Suppose the employee discovers that his/her ID card is stolen or lost; in that case, they MUST report the same to HR Business partner immediately because this can be latin small letter a threat to the organization’s security. If unreported, the employee shall be held responsible for all the activities undertaken using their ID card. On receiving such reports, the organization must deactivate the ID card and order latin small letter a replacement ID card for the employee. The employee will be given the ﬁrst replacement card for free. Any further replacement for misplacing or losing the ID card will cause the employee to be charged rupees 1500 for each substitution. If any employee ﬁnds latin small letter a lost ID card, they MUST return it to HR Business partner full stop\n",
            "\n",
            " Rank : [2] \n",
            "\n",
            " Score : 15.1 \n",
            "\n",
            " PID: 140 \n",
            "\n",
            " Passages:\n",
            "\n",
            "  ID Card Policy@ What is ID Card Policy?@ This policy format carries the provisions regarding the necessity of wearing an ID card. Apart from that, the policy explains the company’s actions against the employee if he breaches this contract. In case an employee loses his card or gets stolen, he can follow the guidelines provided in this policy to report the missing personal identity card and apply for latin small letter a new one. Make your identiﬁcation card policy to ensure your working environment’s safety with the help of our ID Card Policy Template.\n",
            "\n",
            " Rank : [3] \n",
            "\n",
            " Score : 13.5 \n",
            "\n",
            " PID: 146 \n",
            "\n",
            " Passages:\n",
            "\n",
            "  ID Card Policy@ Actions Against Failure to Follow the Provisions of the Policy@ The employees who repeatedly fail to wear the ID card or declines to wear the ID cards are said to breach this policy’s provisions and shall face disciplinary actions. The managers/ superiors or the employees’ colleagues are expected to remind the employees to wear the ID card if they are not wearing it. The employee who lends his/her ID card to anyone else (whether they are an employee of the organization) to get an entry on the company premises shall face legal actions.\n",
            "\n",
            " Rank : [4] \n",
            "\n",
            " Score : 13.4 \n",
            "\n",
            " PID: 141 \n",
            "\n",
            " Passages:\n",
            "\n",
            "  ID Card Policy@ In this policy, the sections mentioned are: black circle The organization’s intent for implementing this policy. black circle The purpose of this policy. black circle The applicability of this policy. black circle The provisions regarding the terms of wearing an ID card. black circle The actions taken by the company against breach of the terms of this policy. black circle Provisions regarding lost or stolen ID cards.\n",
            "\n",
            " Rank : [5] \n",
            "\n",
            " Score : 12.5 \n",
            "\n",
            " PID: 139 \n",
            "\n",
            " Passages:\n",
            "\n",
            "  ID Card Policy@ What is ID Card Policy?@ Over the decades, there have been cases of unauthorized people breaking into the organization with malicious intent. They could pass through the security without any hassle because there was no identiﬁcation card system in the organizations. However, with the personal identity card, the security can easily scoop out the people who do not belong in the organization by the mere fact that they do not have an identity card. With the ID Card Policy, employees and companies can relax and enjoy latin small letter a safe working environment.\n"
          ]
        }
      ],
      "source": [
        "query = \"What is the charge for replacement of ID cards?\" # try with an in-range query or supply your own\n",
        "print(f\"#> {query}\")\n",
        "\n",
        "# Find the top-3 passages for this query\n",
        "results = searcher.search(query, k=5)\n",
        "retrived_passages = []\n",
        "sources = []\n",
        "# Print out the top-k retrieved passages\n",
        "for passage_id, passage_rank, passage_score in zip(*results):\n",
        "    print(f\"\\n Rank : [{passage_rank}] \\n\\n Score : {passage_score:.1f} \\n\\n PID: {passage_id} \\n\\n Passages:\\n\\n {searcher.collection[passage_id]}\")\n",
        "    retrived_passages.append(searcher.collection[passage_id].split('@')[-1])\n",
        "    sources.append(searcher.collection[passage_id].split('@')[0])"
      ]
    },
    {
      "cell_type": "code",
      "execution_count": null,
      "metadata": {
        "colab": {
          "base_uri": "https://localhost:8080/"
        },
        "id": "kVhNn-Hl_VAB",
        "outputId": "a8b1bb9f-6f8e-4fb9-fd92-93c5ede82d38"
      },
      "outputs": [
        {
          "data": {
            "text/plain": [
              "[' Suppose the employee discovers that his/her ID card is stolen or lost; in that case, they MUST report the same to HR Business partner immediately because this can be latin small letter a threat to the organization’s security. If unreported, the employee shall be held responsible for all the activities undertaken using their ID card. On receiving such reports, the organization must deactivate the ID card and order latin small letter a replacement ID card for the employee. The employee will be given the ﬁrst replacement card for free. Any further replacement for misplacing or losing the ID card will cause the employee to be charged rupees\\xa01500\\xa0for each substitution. If any employee ﬁnds latin small letter a lost ID card, they MUST return it to\\xa0HR Business partner full stop',\n",
              " ' This policy format carries the provisions regarding the necessity of wearing an ID card. Apart from that, the policy explains the company’s actions against the employee if he breaches this contract. In case an employee loses his card or gets stolen, he can follow the guidelines provided in this policy to report the missing personal identity card and apply for latin small letter a new one. Make your identiﬁcation card policy to ensure your working environment’s safety with the help of our ID Card Policy Template.',\n",
              " ' The employees who repeatedly fail to wear the ID card or declines to wear the ID cards are said to breach this policy’s provisions and shall face disciplinary actions. The managers/ superiors or the employees’ colleagues are expected to remind the employees to wear the ID card if they are not wearing it. The employee who lends his/her ID card to anyone else (whether they are an employee of the organization) to get an entry on the company premises shall face legal actions.',\n",
              " ' In this policy, the sections mentioned are: black circle The organization’s intent for implementing this policy. black circle The purpose of this policy. black circle The applicability of this policy. black circle The provisions regarding the terms of wearing an ID card. black circle The actions taken by the company against breach of the terms of this policy. black circle Provisions regarding lost or stolen ID cards.',\n",
              " ' Over the decades, there have been cases of unauthorized people breaking into the organization with malicious intent. They could pass through the security without any hassle because there was no identiﬁcation card system in the organizations. However, with the personal identity card, the security can easily scoop out the people who do not belong in the organization by the mere fact that they do not have an identity card. With the ID Card Policy, employees and companies can relax and enjoy latin small letter a safe working environment.']"
            ]
          },
          "execution_count": 12,
          "metadata": {},
          "output_type": "execute_result"
        }
      ],
      "source": [
        "retrived_passages"
      ]
    },
    {
      "cell_type": "code",
      "execution_count": null,
      "metadata": {
        "colab": {
          "base_uri": "https://localhost:8080/"
        },
        "id": "kfWMwdTpl_v1",
        "outputId": "60f89ecd-d758-4776-cefb-aa91de3da0d8"
      },
      "outputs": [
        {
          "data": {
            "text/plain": [
              "5"
            ]
          },
          "execution_count": 23,
          "metadata": {},
          "output_type": "execute_result"
        }
      ],
      "source": [
        "len(retrived_passages)"
      ]
    },
    {
      "cell_type": "code",
      "execution_count": null,
      "metadata": {
        "colab": {
          "base_uri": "https://localhost:8080/"
        },
        "id": "tr2Z9OtpmJ3S",
        "outputId": "0ca76fde-6333-472f-ab30-b7df38a80c92"
      },
      "outputs": [
        {
          "data": {
            "text/plain": [
              "['BIOLOGICAL CLASSIFICATION',\n",
              " 'BIOLOGICAL CLASSIFICATION',\n",
              " 'BIOLOGICAL CLASSIFICATION',\n",
              " 'BIOLOGICAL CLASSIFICATION',\n",
              " 'BIOLOGICAL CLASSIFICATION']"
            ]
          },
          "execution_count": 24,
          "metadata": {},
          "output_type": "execute_result"
        }
      ],
      "source": [
        "sources"
      ]
    },
    {
      "cell_type": "code",
      "execution_count": null,
      "metadata": {
        "colab": {
          "base_uri": "https://localhost:8080/",
          "height": 217
        },
        "id": "xzH6y7Zamipl",
        "outputId": "30b85679-4fb7-4f5a-c596-fd428e461ea8"
      },
      "outputs": [
        {
          "data": {
            "application/vnd.google.colaboratory.intrinsic+json": {
              "type": "string"
            },
            "text/plain": [
              "'Lichens : Lichens are symbiotic associations i.e. mutually useful associations, between algae and fungi. The algal component is known as phycobiont and fungal component as mycobiont, which are autotrophic and heterotrophic, respectively. Algae prepare food for fungi and fungi provide shelter and absorb mineral nutrients and water for its partner. So close is their association that if one saw a lichen in nature one would never imagine that they had two different organisms within them. Lichens are very good pollution indicators – they do not grow in polluted areas. In the five kingdom classification of Whittaker there is no mention of lichens and some acellular organisms like viruses, viroids and prions. These are briefly introduced here. Virus means venom or poisonous fluid. Dmitri Ivanowsky (1892) recognised certain microbes as causal organism of the mosaic disease of tobacco (Figure 2.6a). These were found to be smaller than bacteria because they passed through bacteria-proof filters. M.W. Beijerinek (1898) demonstrated that the extract of the infected plants of tobacco could cause infection in healthy plants and named the new pathogen “virus” and called the fluid as Contagium vivum fluidum (infectious living fluid). W.M. Stanley (1935) showed that viruses could be crystallised and crystals consist largely of proteins. They are inert outside their specific host cell. Viruses are obligate parasites. Prions : In modern medicine certain infectious neurological diseases were found to be transmitted by an agent consisting of abnormally folded protein. The agent was similar in size to viruses. These agents were called prions. The most notable diseases caused by prions are bovine spongiform encephalopathy (BSE) commonly called mad cow disease in cattle and its analogous variant Cr–Jacob disease (CJD) in humans. Once they infect a cell they take over the machinery of the host cell to replicate themselves, killing the host. Would you call viruses living or non-living?'"
            ]
          },
          "execution_count": 25,
          "metadata": {},
          "output_type": "execute_result"
        }
      ],
      "source": [
        "context = ' '.join(retrived_passages)\n",
        "context"
      ]
    },
    {
      "cell_type": "markdown",
      "metadata": {
        "id": "Ey6xlFvemzW1"
      },
      "source": [
        "# Colbert API"
      ]
    },
    {
      "cell_type": "code",
      "execution_count": null,
      "metadata": {
        "colab": {
          "base_uri": "https://localhost:8080/"
        },
        "id": "Vvut0k61Chh5",
        "outputId": "c16b0f5a-bea5-4e3c-82df-17610e12225b"
      },
      "outputs": [
        {
          "name": "stdout",
          "output_type": "stream",
          "text": [
            "Collecting flask-ngrok\n",
            "  Downloading flask_ngrok-0.0.25-py3-none-any.whl (3.1 kB)\n",
            "Requirement already satisfied: Flask>=0.8 in /usr/local/lib/python3.10/dist-packages (from flask-ngrok) (2.2.5)\n",
            "Requirement already satisfied: requests in /usr/local/lib/python3.10/dist-packages (from flask-ngrok) (2.31.0)\n",
            "Requirement already satisfied: Werkzeug>=2.2.2 in /usr/local/lib/python3.10/dist-packages (from Flask>=0.8->flask-ngrok) (3.0.1)\n",
            "Requirement already satisfied: Jinja2>=3.0 in /usr/local/lib/python3.10/dist-packages (from Flask>=0.8->flask-ngrok) (3.1.2)\n",
            "Requirement already satisfied: itsdangerous>=2.0 in /usr/local/lib/python3.10/dist-packages (from Flask>=0.8->flask-ngrok) (2.1.2)\n",
            "Requirement already satisfied: click>=8.0 in /usr/local/lib/python3.10/dist-packages (from Flask>=0.8->flask-ngrok) (8.1.7)\n",
            "Requirement already satisfied: charset-normalizer<4,>=2 in /usr/local/lib/python3.10/dist-packages (from requests->flask-ngrok) (3.3.2)\n",
            "Requirement already satisfied: idna<4,>=2.5 in /usr/local/lib/python3.10/dist-packages (from requests->flask-ngrok) (3.6)\n",
            "Requirement already satisfied: urllib3<3,>=1.21.1 in /usr/local/lib/python3.10/dist-packages (from requests->flask-ngrok) (2.0.7)\n",
            "Requirement already satisfied: certifi>=2017.4.17 in /usr/local/lib/python3.10/dist-packages (from requests->flask-ngrok) (2023.11.17)\n",
            "Requirement already satisfied: MarkupSafe>=2.0 in /usr/local/lib/python3.10/dist-packages (from Jinja2>=3.0->Flask>=0.8->flask-ngrok) (2.1.3)\n",
            "Installing collected packages: flask-ngrok\n",
            "Successfully installed flask-ngrok-0.0.25\n",
            "\u001b[33mWARNING: Running pip as the 'root' user can result in broken permissions and conflicting behaviour with the system package manager. It is recommended to use a virtual environment instead: https://pip.pypa.io/warnings/venv\u001b[0m\u001b[33m\n",
            "\u001b[0m"
          ]
        }
      ],
      "source": [
        "!pip install flask-ngrok"
      ]
    },
    {
      "cell_type": "code",
      "execution_count": null,
      "metadata": {
        "colab": {
          "base_uri": "https://localhost:8080/"
        },
        "id": "MTy64F9e9Ow0",
        "outputId": "7debeae0-4442-4354-95c4-4b97bd5a4d3e"
      },
      "outputs": [
        {
          "data": {
            "text/plain": [
              "{'Chapter': ' Compensation and Benefits Policy',\n",
              " 'Page_number': 1,\n",
              " 'Topic': 'What is the Compensation and Beneﬁts Policy?'}"
            ]
          },
          "execution_count": 13,
          "metadata": {},
          "output_type": "execute_result"
        }
      ],
      "source": [
        "import pandas as pd\n",
        "\n",
        "df = pd.read_csv(\"/content/data/office-collections.csv\")\n",
        "df = df.drop(['Paragraph'], axis=1)\n",
        "df = df.drop(['pid'], axis=1)\n",
        "df_dict = df.to_dict(orient='records')\n",
        "df_dict[0]"
      ]
    },
    {
      "cell_type": "code",
      "execution_count": 17,
      "metadata": {
        "colab": {
          "base_uri": "https://localhost:8080/"
        },
        "id": "DLPvn3efChoX",
        "outputId": "0c2dbe18-cf71-466c-e84b-c2c72966ace1"
      },
      "outputs": [
        {
          "output_type": "stream",
          "name": "stdout",
          "text": [
            "[Dec 03, 16:06:03] #> Loading collection...\n",
            "0M \n",
            "[Dec 03, 16:06:06] #> Loading codec...\n",
            "[Dec 03, 16:06:06] #> Loading IVF...\n",
            "[Dec 03, 16:06:06] #> Loading doclens...\n"
          ]
        },
        {
          "output_type": "stream",
          "name": "stderr",
          "text": [
            "100%|██████████| 1/1 [00:00<00:00, 1431.01it/s]"
          ]
        },
        {
          "output_type": "stream",
          "name": "stdout",
          "text": [
            "[Dec 03, 16:06:06] #> Loading codes and residuals...\n"
          ]
        },
        {
          "output_type": "stream",
          "name": "stderr",
          "text": [
            "\n",
            "100%|██████████| 1/1 [00:00<00:00, 567.87it/s]"
          ]
        },
        {
          "output_type": "stream",
          "name": "stdout",
          "text": [
            " * Serving Flask app '__main__'\n",
            " * Debug mode: off\n"
          ]
        },
        {
          "output_type": "stream",
          "name": "stderr",
          "text": [
            "\n",
            "INFO:werkzeug:\u001b[31m\u001b[1mWARNING: This is a development server. Do not use it in a production deployment. Use a production WSGI server instead.\u001b[0m\n",
            " * Running on http://127.0.0.1:5000\n",
            "INFO:werkzeug:\u001b[33mPress CTRL+C to quit\u001b[0m\n"
          ]
        },
        {
          "output_type": "stream",
          "name": "stdout",
          "text": [
            " * Running on http://c358-34-126-157-109.ngrok.io\n",
            " * Traffic stats available on http://127.0.0.1:4040\n"
          ]
        },
        {
          "output_type": "stream",
          "name": "stderr",
          "text": [
            "INFO:werkzeug:127.0.0.1 - - [03/Dec/2023 16:06:56] \"GET /api/search?query=What%20is%20the%20charge%20for%20replacement%20of%20ID%20cards??&k=3 HTTP/1.1\" 200 -\n"
          ]
        },
        {
          "output_type": "stream",
          "name": "stdout",
          "text": [
            "API request count: 1\n",
            "Query=What is the charge for replacement of ID cards??\n",
            "\n",
            "#> QueryTokenizer.tensorize(batch_text[0], batch_background[0], bsize) ==\n",
            "#> Input: . What is the charge for replacement of ID cards??, \t\t True, \t\t None\n",
            "#> Output IDs: torch.Size([32]), tensor([ 101,    1, 2054, 2003, 1996, 3715, 2005, 6110, 1997, 8909, 5329, 1029,\n",
            "        1029,  102,  103,  103,  103,  103,  103,  103,  103,  103,  103,  103,\n",
            "         103,  103,  103,  103,  103,  103,  103,  103])\n",
            "#> Output Mask: torch.Size([32]), tensor([1, 1, 1, 1, 1, 1, 1, 1, 1, 1, 1, 1, 1, 1, 0, 0, 0, 0, 0, 0, 0, 0, 0, 0,\n",
            "        0, 0, 0, 0, 0, 0, 0, 0])\n",
            "\n"
          ]
        },
        {
          "output_type": "stream",
          "name": "stderr",
          "text": [
            "INFO:werkzeug:127.0.0.1 - - [03/Dec/2023 16:08:47] \"GET /api/search?query=What%20is%20the%20charge%20for%20replacement%20of%20ID%20cards??&k=3 HTTP/1.1\" 200 -\n"
          ]
        },
        {
          "output_type": "stream",
          "name": "stdout",
          "text": [
            "API request count: 2\n"
          ]
        },
        {
          "output_type": "stream",
          "name": "stderr",
          "text": [
            "INFO:werkzeug:127.0.0.1 - - [03/Dec/2023 16:09:35] \"GET /api/search?query=what%20is%20the%20deadline%20for%20returning%20the%20assets%20after%20work%20from%20home?%0A?&k=3 HTTP/1.1\" 200 -\n"
          ]
        },
        {
          "output_type": "stream",
          "name": "stdout",
          "text": [
            "API request count: 3\n",
            "Query=what is the deadline for returning the assets after work from home?\n",
            "?\n"
          ]
        },
        {
          "output_type": "stream",
          "name": "stderr",
          "text": [
            "INFO:werkzeug:127.0.0.1 - - [03/Dec/2023 16:13:52] \"GET /api/search?query=What%20is%20the%20charge%20for%20replacement%20of%20ID%20cards??&k=3 HTTP/1.1\" 200 -\n"
          ]
        },
        {
          "output_type": "stream",
          "name": "stdout",
          "text": [
            "API request count: 4\n"
          ]
        },
        {
          "output_type": "stream",
          "name": "stderr",
          "text": [
            "INFO:werkzeug:127.0.0.1 - - [03/Dec/2023 16:16:13] \"GET /api/search?query=What%20is%20the%20charge%20for%20replacement%20of%20ID%20cards??&k=3 HTTP/1.1\" 200 -\n"
          ]
        },
        {
          "output_type": "stream",
          "name": "stdout",
          "text": [
            "API request count: 5\n"
          ]
        },
        {
          "output_type": "stream",
          "name": "stderr",
          "text": [
            "INFO:werkzeug:127.0.0.1 - - [03/Dec/2023 16:16:57] \"GET /api/search?query=what%20is%20the%20deadline%20for%20returning%20the%20assets%20after%20work%20from%20home??&k=3 HTTP/1.1\" 200 -\n"
          ]
        },
        {
          "output_type": "stream",
          "name": "stdout",
          "text": [
            "API request count: 6\n",
            "Query=what is the deadline for returning the assets after work from home??\n"
          ]
        },
        {
          "output_type": "stream",
          "name": "stderr",
          "text": [
            "INFO:werkzeug:127.0.0.1 - - [03/Dec/2023 16:20:03] \"GET /api/search?query=What%20is%20the%20charge%20for%20replacement%20of%20ID%20cards??&k=3 HTTP/1.1\" 200 -\n"
          ]
        },
        {
          "output_type": "stream",
          "name": "stdout",
          "text": [
            "API request count: 7\n"
          ]
        },
        {
          "output_type": "stream",
          "name": "stderr",
          "text": [
            "INFO:werkzeug:127.0.0.1 - - [03/Dec/2023 16:20:44] \"GET /api/search?query=what%20is%20the%20deadline%20for%20returning%20the%20assets%20after%20work%20from%20home??&k=3 HTTP/1.1\" 200 -\n"
          ]
        },
        {
          "output_type": "stream",
          "name": "stdout",
          "text": [
            "API request count: 8\n"
          ]
        }
      ],
      "source": [
        "from flask_ngrok import run_with_ngrok\n",
        "from flask import Flask, render_template, request\n",
        "from functools import lru_cache\n",
        "import math\n",
        "import os\n",
        "from dotenv import load_dotenv\n",
        "\n",
        "from colbert.infra import Run, RunConfig, ColBERTConfig\n",
        "from colbert import Searcher\n",
        "import pandas as pd\n",
        "\n",
        "load_dotenv()\n",
        "\n",
        "# INDEX_NAME = os.getenv(\"INDEX_NAME\")\n",
        "# INDEX_ROOT = os.getenv(\"INDEX_ROOT\")\n",
        "# /content/experiments/copilot/indexes/ncert.2bits\n",
        "INDEX_ROOT=\"/content/experiments/copilot/indexes\"\n",
        "INDEX_NAME=\"ncert.2bits\"\n",
        "PORT=\"8893\"\n",
        "\n",
        "app = Flask(__name__)\n",
        "run_with_ngrok(app)\n",
        "searcher = Searcher(index=f\"{INDEX_ROOT}/{INDEX_NAME}\")\n",
        "counter = {\"api\" : 0}\n",
        "\n",
        "df = pd.read_csv(\"/content/data/office-collections.csv\")\n",
        "df = df.drop(['Paragraph'], axis=1)\n",
        "df = df.drop(['pid'], axis=1)\n",
        "df_dict = df.to_dict(orient='records')\n",
        "\n",
        "@lru_cache(maxsize=1000000)\n",
        "def api_search_query(query, k):\n",
        "    print(f\"Query={query}\")\n",
        "    if k == None: k = 10\n",
        "    k = min(int(k), 100)\n",
        "    pids, ranks, scores = searcher.search(query, k=100)\n",
        "    pids, ranks, scores = pids[:k], ranks[:k], scores[:k]\n",
        "    passages = [searcher.collection[pid] for pid in pids]\n",
        "    probs = [math.exp(score) for score in scores]\n",
        "    probs = [prob / sum(probs) for prob in probs]\n",
        "    topk = []\n",
        "    for pid, rank, score, prob in zip(pids, ranks, scores, probs):\n",
        "        text = searcher.collection[pid]\n",
        "        source = df_dict[pid]\n",
        "        d = {'text': text, 'pid': pid, 'rank': rank, 'score': score, 'prob': prob, 'source': source}\n",
        "        topk.append(d)\n",
        "    topk = list(sorted(topk, key=lambda p: (-1 * p['score'], p['pid'])))\n",
        "    return {\"query\" : query, \"topk\": topk}\n",
        "\n",
        "@app.route(\"/api/search\", methods=[\"GET\"])\n",
        "def api_search():\n",
        "    if request.method == \"GET\":\n",
        "        counter[\"api\"] += 1\n",
        "        print(\"API request count:\", counter[\"api\"])\n",
        "        return api_search_query(request.args.get(\"query\"), request.args.get(\"k\"))\n",
        "    else:\n",
        "        return ('', 405)\n",
        "\n",
        "if __name__ == \"__main__\":\n",
        "    app.run()"
      ]
    },
    {
      "cell_type": "code",
      "execution_count": null,
      "metadata": {
        "id": "YFTTsifZDMFe"
      },
      "outputs": [],
      "source": [
        "http://6736-34-124-217-36.ngrok.io/\n",
        "http://8ea4-34-124-217-36.ngrok.io/api/search?query=What is the charge for replacement of ID cards??&k=5"
      ]
    }
  ],
  "metadata": {
    "accelerator": "GPU",
    "colab": {
      "machine_shape": "hm",
      "provenance": []
    },
    "kernelspec": {
      "display_name": "Python 3",
      "name": "python3"
    },
    "language_info": {
      "codemirror_mode": {
        "name": "ipython",
        "version": 3
      },
      "file_extension": ".py",
      "mimetype": "text/x-python",
      "name": "python",
      "nbconvert_exporter": "python",
      "pygments_lexer": "ipython3",
      "version": "3.9.1"
    }
  },
  "nbformat": 4,
  "nbformat_minor": 0
}